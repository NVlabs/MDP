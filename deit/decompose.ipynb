{
 "cells": [
  {
   "cell_type": "code",
   "execution_count": 28,
   "metadata": {},
   "outputs": [],
   "source": [
    "import json\n",
    "import numpy as np\n",
    "from scipy.interpolate import RegularGridInterpolator"
   ]
  },
  {
   "cell_type": "code",
   "execution_count": 48,
   "metadata": {},
   "outputs": [],
   "source": [
    "latency_file = \"latency_head.json\"\n",
    "with open(latency_file) as json_file:\n",
    "    measurement = json.load(json_file)\n",
    "EMB = np.arange(4)*256\n",
    "head = np.array([1,3,6,9,12])\n",
    "QK = np.array([1,16,32,48,64])\n",
    "V = np.array([1,16,32,48,64])\n",
    "MLP = (np.arange(25))*128\n",
    "data = np.zeros([4,5,5,5,25])\n",
    "for i in range(3):\n",
    "    for j in range(5):\n",
    "        for k1 in range(5):\n",
    "            for k2 in range(5):\n",
    "                for l in range(25):\n",
    "                    e = EMB[i+1]\n",
    "                    q_h = head[j]\n",
    "                    q = QK[k1]\n",
    "                    v = V[k2]\n",
    "                    if MLP[l]:\n",
    "                        h = MLP[l]\n",
    "                    else:\n",
    "                        h = 1\n",
    "                    data[i+1,j,k1,k2,l] = measurement['EMB_'+str(e)]['QK_'+str(q_h)+'_'+str(q)]['V_'+str(v)]['MLP_'+str(h)]\n",
    "latency_look_up_table = RegularGridInterpolator((EMB, head, QK, V, MLP), data) "
   ]
  },
  {
   "cell_type": "code",
   "execution_count": 46,
   "metadata": {},
   "outputs": [],
   "source": [
    "EMB_NUM, HEAD_NUM, QK_NUM, V_NUM, MLP_NUM = 768,12,64,64,3072\n",
    "emb = 32\n",
    "h = 0\n",
    "qk = 0\n",
    "v = 0\n",
    "mlp = 32\n",
    "dim_vec = np.array([emb,h,qk,v,mlp])"
   ]
  },
  {
   "cell_type": "code",
   "execution_count": null,
   "metadata": {},
   "outputs": [],
   "source": [
    "measurement['EMB_'+str(e)]['QK_'+str(q_h)+'_'+str(q)]['V_'+str(v)]['MLP_'+str(h)]"
   ]
  },
  {
   "cell_type": "code",
   "execution_count": null,
   "metadata": {},
   "outputs": [],
   "source": []
  },
  {
   "cell_type": "code",
   "execution_count": null,
   "metadata": {},
   "outputs": [],
   "source": []
  }
 ],
 "metadata": {
  "kernelspec": {
   "display_name": "Python 3",
   "language": "python",
   "name": "python3"
  },
  "language_info": {
   "codemirror_mode": {
    "name": "ipython",
    "version": 3
   },
   "file_extension": ".py",
   "mimetype": "text/x-python",
   "name": "python",
   "nbconvert_exporter": "python",
   "pygments_lexer": "ipython3",
   "version": "3.6.9"
  }
 },
 "nbformat": 4,
 "nbformat_minor": 4
}
