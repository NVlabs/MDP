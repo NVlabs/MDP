{
 "cells": [
  {
   "cell_type": "code",
   "execution_count": 11,
   "metadata": {},
   "outputs": [],
   "source": [
    "import pickle\n",
    "\n",
    "from pyomo.environ import *\n",
    "import numpy as np\n",
    "import time\n",
    "import json\n",
    "from scipy.interpolate import RegularGridInterpolator"
   ]
  },
  {
   "cell_type": "code",
   "execution_count": 7,
   "metadata": {},
   "outputs": [],
   "source": [
    "BS = 256\n",
    "NUM_TOKENS = 198\n",
    "WARMUP = 20\n",
    "TOTAL = 35"
   ]
  },
  {
   "cell_type": "code",
   "execution_count": 19,
   "metadata": {},
   "outputs": [],
   "source": [
    "EMB, HEAD, QK, V, MLP = 768,12,64,64,3072\n",
    "all_variable_specs = {\n",
    "    \"EMB\": [768, 16, 768//16+1],\n",
    "    \"HEAD\": [12, 1, 12//1+1],\n",
    "    \"QK\": [64, 2, 64//2+1],\n",
    "    \"V\": [64, 2, 64//2+1],\n",
    "    \"MLP\": [3072, 32, 3072//32+1],\n",
    "}"
   ]
  },
  {
   "cell_type": "code",
   "execution_count": 20,
   "metadata": {},
   "outputs": [],
   "source": [
    "latency_file = \"latency_head.json\"\n",
    "with open(latency_file) as json_file:\n",
    "    measurement = json.load(json_file)\n",
    "EMB = np.arange(4)*256\n",
    "head = np.array([1,3,6,9,12])\n",
    "QK = np.array([1,16,32,48,64])\n",
    "V = np.array([1,16,32,48,64])\n",
    "MLP = (np.arange(25))*128\n",
    "data = np.zeros([4,5,5,5,25])\n",
    "for i in range(3):\n",
    "    for j in range(5):\n",
    "        for k1 in range(5):\n",
    "            for k2 in range(5):\n",
    "                for l in range(25):\n",
    "                    e = EMB[i+1]\n",
    "                    q_h = head[j]\n",
    "                    q = QK[k1]\n",
    "                    v = V[k2]\n",
    "                    if MLP[l]:\n",
    "                        h = MLP[l]\n",
    "                    else:\n",
    "                        h = 1\n",
    "                    data[i+1,j,k1,k2,l] = measurement['EMB_'+str(e)]['QK_'+str(q_h)+'_'+str(q)]['V_'+str(v)]['MLP_'+str(h)]\n",
    "latency_look_up_table = RegularGridInterpolator((EMB, head, QK, V, MLP), data) "
   ]
  },
  {
   "cell_type": "code",
   "execution_count": 21,
   "metadata": {},
   "outputs": [],
   "source": [
    "save_name = f\"mlp_lut_BS{BS}_NUM_TOKENS{NUM_TOKENS}_v100.pkl\"\n",
    "with open(save_name, 'rb') as f:\n",
    "    mlp_lut = pickle.load(f)"
   ]
  },
  {
   "cell_type": "code",
   "execution_count": 22,
   "metadata": {},
   "outputs": [],
   "source": [
    "save_name = f\"qk_lut_BS{BS}_NUM_TOKENS{NUM_TOKENS}_v100.pkl\"\n",
    "with open(save_name, 'rb') as f:\n",
    "    qk_lut = pickle.load(f)"
   ]
  },
  {
   "cell_type": "code",
   "execution_count": 23,
   "metadata": {},
   "outputs": [],
   "source": [
    "save_name = f\"vandproj_lut_BS{BS}_NUM_TOKENS{NUM_TOKENS}_v100.pkl\"\n",
    "with open(save_name, 'rb') as f:\n",
    "    vandproj_lut = pickle.load(f)"
   ]
  },
  {
   "cell_type": "code",
   "execution_count": 25,
   "metadata": {},
   "outputs": [],
   "source": [
    "# # Define index ranges and strides\n",
    "# emb_idx_range = np.arange(all_variable_specs[\"EMB\"][2])\n",
    "# head_idx_range = np.arange(all_variable_specs[\"HEAD\"][2])\n",
    "# qk_idx_range = np.arange(all_variable_specs[\"QK\"][2])\n",
    "# v_idx_range = np.arange(all_variable_specs[\"V\"][2])\n",
    "# mlp_idx_range = np.arange(all_variable_specs[\"MLP\"][2])\n",
    "\n",
    "# # Calculate and fill latency table\n",
    "# for emb_idx in emb_idx_range:\n",
    "#     print(f\"progress {emb_idx}/{all_variable_specs['EMB'][2]}\")\n",
    "    \n",
    "#     emb_values = np.maximum(emb_idx * all_variable_specs[\"EMB\"][1], 1)\n",
    "#     head_values = np.maximum(head_idx_range * all_variable_specs[\"HEAD\"][1], 1)\n",
    "#     qk_values = np.maximum(qk_idx_range * all_variable_specs[\"QK\"][1], 1)\n",
    "#     v_values = np.maximum(v_idx_range * all_variable_specs[\"V\"][1], 1)\n",
    "#     mlp_values = np.maximum(mlp_idx_range * all_variable_specs[\"MLP\"][1], 1)\n",
    "    \n",
    "#     emb_grid, head_grid, qk_grid, v_grid, mlp_grid = np.meshgrid(emb_values, head_values, qk_values, v_values, mlp_values, indexing='ij')\n",
    "\n",
    "#     dim_vecs = np.vstack([emb_grid.ravel(), head_grid.ravel(), qk_grid.ravel(), v_grid.ravel(), mlp_grid.ravel()]).T\n",
    "#     latency_values = latency_look_up_table(dim_vecs)\n",
    "    \n",
    "#     latency_table[emb_idx, :, :, :, :] = latency_values.reshape(all_variable_specs[\"HEAD\"][2], all_variable_specs[\"QK\"][2], all_variable_specs[\"V\"][2], all_variable_specs[\"MLP\"][2])"
   ]
  },
  {
   "cell_type": "code",
   "execution_count": 26,
   "metadata": {},
   "outputs": [],
   "source": [
    "# test_emb = 6\n",
    "# test_head = 11\n",
    "# test_qk = 16\n",
    "# test_v = 30\n",
    "# test_mlp = 40\n",
    "\n",
    "# # Convert test dimensions to the scale of the data\n",
    "# test_dim_vec = np.array([\n",
    "#     max(test_emb * all_variable_specs[\"EMB\"][1], 1),\n",
    "#     max(test_head * all_variable_specs[\"HEAD\"][1], 1),\n",
    "#     max(test_qk * all_variable_specs[\"QK\"][1], 1),\n",
    "#     max(test_v * all_variable_specs[\"V\"][1], 1),\n",
    "#     max(test_mlp * all_variable_specs[\"MLP\"][1], 1)\n",
    "# ])\n",
    "\n",
    "# # Print the latency table value at the specified indices\n",
    "# print(latency_table[test_emb, test_head, test_qk, test_v, test_mlp])\n",
    "\n",
    "# # Interpolate to find the latency value\n",
    "# latency_value = latency_look_up_table(test_dim_vec)\n",
    "# print(latency_value)"
   ]
  },
  {
   "cell_type": "code",
   "execution_count": 27,
   "metadata": {},
   "outputs": [],
   "source": [
    "# import pickle\n",
    "# with open(\"minlp_latency_table.pkl\", \"wb\") as f:\n",
    "#     pickle.dump(latency_table, f)"
   ]
  },
  {
   "cell_type": "markdown",
   "metadata": {},
   "source": [
    "## Trivial GLPK Test"
   ]
  },
  {
   "cell_type": "code",
   "execution_count": 28,
   "metadata": {},
   "outputs": [],
   "source": [
    "model = ConcreteModel()\n",
    "# Define variables\n",
    "variable_slices_by_type = {}\n",
    "counter = 0\n",
    "for var_type, var_spec in all_variable_specs.items():\n",
    "    variable_slices_by_type[var_type] = (counter, counter+all_variable_specs[var_type][2])\n",
    "    counter += all_variable_specs[var_type][2]\n",
    "\n",
    "all_items = list(range(counter))\n",
    "model.decision_vars = Var(all_items, domain=Binary)\n",
    "\n",
    "# Define importance and constraint\n",
    "importance = 0\n",
    "model.group_unique_constraint = ConstraintList()\n",
    "\n",
    "for var_type, var_spec in all_variable_specs.items():\n",
    "    cur_decision_vars = [model.decision_vars[k] for k in range(variable_slices_by_type[var_type][0], variable_slices_by_type[var_type][1])]\n",
    "    model.group_unique_constraint.add(sum(cur_decision_vars[i] for i in list(range(len(cur_decision_vars)))) == 1)\n",
    "    random_importance = np.abs(np.random.randn(all_variable_specs[var_type][2])) * 100\n",
    "    importance += sum(cur_decision_vars[i] * random_importance[i] for i in range(len(cur_decision_vars)))\n",
    "\n",
    "model.obj = Objective(expr=importance, sense=maximize)"
   ]
  },
  {
   "cell_type": "code",
   "execution_count": 29,
   "metadata": {},
   "outputs": [
    {
     "data": {
      "text/plain": [
       "{'Problem': [{'Name': 'unknown', 'Lower bound': 1276.7676538037, 'Upper bound': 1276.7676538037, 'Number of objectives': 1, 'Number of constraints': 6, 'Number of variables': 226, 'Number of nonzeros': 226, 'Sense': 'maximize'}], 'Solver': [{'Status': 'ok', 'Termination condition': 'optimal', 'Statistics': {'Branch and bound': {'Number of bounded subproblems': '1', 'Number of created subproblems': '1'}}, 'Error rc': 0, 'Time': 0.017297744750976562}], 'Solution': [OrderedDict([('number of solutions', 0), ('number of solutions displayed', 0)])]}"
      ]
     },
     "execution_count": 29,
     "metadata": {},
     "output_type": "execute_result"
    }
   ],
   "source": [
    "# solver = SolverFactory('mindtpy')\n",
    "solver = SolverFactory('glpk')\n",
    "solver.solve(model)\n",
    "# results = solver.solve(model, strategy='OA', init_strategy='FP', mip_solver='glpk', nlp_solver='ipopt', tee=True) \n",
    "# results = solver.solve(model, strategy='OA', init_strategy='FP', mip_solver='glpk', nlp_solver='ipopt') \n",
    "# results = solver.solve(model) \n",
    "# results = solver.solve(model, mip_solver='glpk', nlp_solver='ipopt') "
   ]
  },
  {
   "cell_type": "code",
   "execution_count": 30,
   "metadata": {},
   "outputs": [
    {
     "name": "stdout",
     "output_type": "stream",
     "text": [
      "EMB [0.0, 0.0, 0.0, 0.0, 0.0, 0.0, 0.0, 0.0, 0.0, 0.0, 0.0, 0.0, 0.0, 0.0, 0.0, 0.0, 0.0, 0.0, 0.0, 0.0, 0.0, 0.0, 0.0, 0.0, 0.0, 0.0, 0.0, 0.0, 0.0, 0.0, 0.0, 0.0, 0.0, 0.0, 0.0, 0.0, 0.0, 0.0, 0.0, 0.0, 0.0, 0.0, 1.0, 0.0, 0.0, 0.0, 0.0, 0.0, 0.0]\n",
      "HEAD [0.0, 0.0, 0.0, 1.0, 0.0, 0.0, 0.0, 0.0, 0.0, 0.0, 0.0, 0.0, 0.0]\n",
      "QK [0.0, 0.0, 0.0, 0.0, 0.0, 1.0, 0.0, 0.0, 0.0, 0.0, 0.0, 0.0, 0.0, 0.0, 0.0, 0.0, 0.0, 0.0, 0.0, 0.0, 0.0, 0.0, 0.0, 0.0, 0.0, 0.0, 0.0, 0.0, 0.0, 0.0, 0.0, 0.0, 0.0]\n",
      "V [0.0, 0.0, 0.0, 0.0, 0.0, 0.0, 0.0, 0.0, 0.0, 0.0, 0.0, 0.0, 0.0, 0.0, 0.0, 0.0, 0.0, 0.0, 0.0, 0.0, 0.0, 0.0, 0.0, 0.0, 0.0, 0.0, 1.0, 0.0, 0.0, 0.0, 0.0, 0.0, 0.0]\n",
      "MLP [0.0, 0.0, 0.0, 0.0, 0.0, 0.0, 0.0, 0.0, 0.0, 0.0, 0.0, 0.0, 0.0, 0.0, 0.0, 0.0, 0.0, 0.0, 0.0, 1.0, 0.0, 0.0, 0.0, 0.0, 0.0, 0.0, 0.0, 0.0, 0.0, 0.0, 0.0, 0.0, 0.0, 0.0, 0.0, 0.0, 0.0, 0.0, 0.0, 0.0, 0.0, 0.0, 0.0, 0.0, 0.0, 0.0, 0.0, 0.0, 0.0, 0.0, 0.0, 0.0, 0.0, 0.0, 0.0, 0.0, 0.0, 0.0, 0.0, 0.0, 0.0, 0.0, 0.0, 0.0, 0.0, 0.0, 0.0, 0.0, 0.0, 0.0, 0.0, 0.0, 0.0, 0.0, 0.0, 0.0, 0.0, 0.0, 0.0, 0.0, 0.0, 0.0, 0.0, 0.0, 0.0, 0.0, 0.0, 0.0, 0.0, 0.0, 0.0, 0.0, 0.0, 0.0, 0.0, 0.0, 0.0]\n"
     ]
    }
   ],
   "source": [
    "for var_type, var_spec in all_variable_specs.items():\n",
    "    indices = list(range(variable_slices_by_type[var_type][0], variable_slices_by_type[var_type][1]))\n",
    "    cur_decision_vars = [model.decision_vars[k] for k in indices]\n",
    "    cur_decision_vars_value = [x.value for x in cur_decision_vars]\n",
    "    print(var_type, cur_decision_vars_value)"
   ]
  },
  {
   "cell_type": "markdown",
   "metadata": {},
   "source": [
    "## MINLP"
   ]
  },
  {
   "cell_type": "code",
   "execution_count": 31,
   "metadata": {},
   "outputs": [
    {
     "data": {
      "text/plain": [
       "[768, 16, 49]"
      ]
     },
     "execution_count": 31,
     "metadata": {},
     "output_type": "execute_result"
    }
   ],
   "source": [
    "all_variable_specs[\"EMB\"]"
   ]
  },
  {
   "cell_type": "code",
   "execution_count": 44,
   "metadata": {},
   "outputs": [],
   "source": [
    "total_latency = mlp_lut[-1, -1] + vandproj_lut[-1, -1, -1] + qk_lut[-1, -1, -1]\n",
    "target_latency = total_latency * 0.6"
   ]
  },
  {
   "cell_type": "code",
   "execution_count": 53,
   "metadata": {},
   "outputs": [],
   "source": [
    "model = ConcreteModel()\n",
    "# Define variables\n",
    "variable_slices_by_type = {}\n",
    "counter = 0\n",
    "for var_type, var_spec in all_variable_specs.items():\n",
    "    variable_slices_by_type[var_type] = (counter, counter+all_variable_specs[var_type][2])\n",
    "    counter += all_variable_specs[var_type][2]\n",
    "\n",
    "all_items = list(range(counter))\n",
    "model.decision_vars = Var(all_items, domain=Binary)\n",
    "\n",
    "# Define importance and constraint\n",
    "importance = 0\n",
    "model.group_unique_constraint = ConstraintList()\n",
    "\n",
    "for var_type, var_spec in all_variable_specs.items():\n",
    "    cur_decision_vars = [model.decision_vars[k] for k in range(variable_slices_by_type[var_type][0], variable_slices_by_type[var_type][1])]\n",
    "    model.group_unique_constraint.add(sum(cur_decision_vars[i] for i in list(range(len(cur_decision_vars)))) == 1)\n",
    "    random_importance = np.abs(np.random.randn(all_variable_specs[var_type][2])) * 100\n",
    "    importance += sum(cur_decision_vars[i] * random_importance[i] for i in range(len(cur_decision_vars)))\n",
    "\n",
    "# Add latency constraint\n",
    "emb_vectors = np.array([model.decision_vars[k] for k in range(variable_slices_by_type[\"EMB\"][0], variable_slices_by_type[\"EMB\"][1])])\n",
    "head_vectors = np.array([model.decision_vars[k] for k in range(variable_slices_by_type[\"HEAD\"][0], variable_slices_by_type[\"HEAD\"][1])])\n",
    "qk_vectors = np.array([model.decision_vars[k] for k in range(variable_slices_by_type[\"QK\"][0], variable_slices_by_type[\"QK\"][1])])\n",
    "v_vectors = np.array([model.decision_vars[k] for k in range(variable_slices_by_type[\"V\"][0], variable_slices_by_type[\"V\"][1])])\n",
    "mlp_vectors = np.array([model.decision_vars[k] for k in range(variable_slices_by_type[\"MLP\"][0], variable_slices_by_type[\"MLP\"][1])])\n",
    "\n",
    "# grid_emb, grid_head, grid_qk, grid_v, grid_mlp = np.meshgrid(emb_vectors, head_vectors, qk_vectors, v_vectors, mlp_vectors, indexing='ij')\n",
    "# T = grid_emb * grid_head * grid_qk * grid_v * grid_mlp\n",
    "# T = np.tensordot(np.tensordot(np.tensordot(np.tensordot(emb_vectors, head_vectors, axes=0), qk_vectors, axes=0), v_vectors, axes=0), mlp_vectors, axes=0)\n",
    "\n",
    "# mlp latency\n",
    "T1 = np.tensordot(emb_vectors, mlp_vectors, axes=0)\n",
    "latency_expr_mlp = np.sum(T1 * mlp_lut)\n",
    "T2 = np.tensordot(head_vectors, np.tensordot(emb_vectors, v_vectors, axes=0), axes=0)\n",
    "latency_expr_vandproj = np.sum(T2 * vandproj_lut)\n",
    "T3 = np.tensordot(head_vectors, np.tensordot(emb_vectors, qk_vectors, axes=0), axes=0)\n",
    "latency_expr_qk = np.sum(T3 * qk_lut)\n",
    "latency_expr = latency_expr_mlp + latency_expr_vandproj + latency_expr_qk\n",
    "model.latency_constraint = Constraint(expr=latency_expr <= target_latency)\n",
    "model.obj = Objective(expr=importance, sense=maximize)"
   ]
  },
  {
   "cell_type": "code",
   "execution_count": 54,
   "metadata": {},
   "outputs": [
    {
     "name": "stderr",
     "output_type": "stream",
     "text": [
      "---------------------------------------------------------------------------------------------\n",
      "              Mixed-Integer Nonlinear Decomposition Toolbox in Pyomo (MindtPy)               \n",
      "---------------------------------------------------------------------------------------------\n",
      "For more information, please visit https://pyomo.readthedocs.io/en/stable/contributed_packages/mindtpy.html\n",
      "Original model has 6 constraints (1 nonlinear) and 0 disjunctions, with 225 variables, of which 225 are binary, 0 are integer, and 0 are continuous.\n",
      "Moving objective to constraint set.\n",
      "FP is the initial strategy being used.\n",
      "\n",
      " ===============================================================================================\n",
      " Iteration | Subproblem Type | Objective Value | Primal Bound |   Dual Bound |   Gap   | Time(s)\n",
      "\n",
      "         -       Relaxed NLP            1013.2           -inf         1013.2      nan%     14.05\n",
      "         1            FP-MIP       2.09396e-06           -inf         1013.2      nan%     16.97\n",
      "         1            FP-NLP       5.70079e-15           -inf         1013.2      nan%     23.68\n",
      "*        1         Fixed NLP            1013.2         1013.2         1013.2     0.00%     32.58\n",
      "FP-MIP infeasible\n",
      "         1              MILP            1013.2         1013.2         1013.2     0.00%     33.83\n",
      "MindtPy exiting on bound convergence. |Primal Bound: 1013.1957890211933 - Dual Bound: 1013.19577889174| <= (absolute tolerance 0.0001)  \n",
      "\n",
      "Solve the main problem without the last no_good cut to fix the bound.zero_tolerance is set to 1E-4\n",
      "         2         Fixed NLP            1013.2         1013.2         1013.2     0.00%     40.15\n",
      "Fixed bound values: Primal Bound: 1013.1957890211933  Dual Bound: 1013.19577889174\n",
      " ===============================================================================================\n",
      " Primal integral          :    0.0000 \n",
      " Dual integral            :    0.0039 \n",
      " Primal-dual gap integral :    0.0039 \n"
     ]
    }
   ],
   "source": [
    "solver = SolverFactory('mindtpy')\n",
    "# solver = SolverFactory('glpk')\n",
    "# solver.solve(model)\n",
    "results = solver.solve(model, strategy='OA', init_strategy='FP', mip_solver='glpk', nlp_solver='ipopt', tee=True) \n",
    "# results = solver.solve(model, strategy='OA', init_strategy='FP', mip_solver='glpk', nlp_solver='ipopt') \n",
    "# results = solver.solve(model) \n",
    "# results = solver.solve(model, mip_solver='glpk', nlp_solver='ipopt') "
   ]
  },
  {
   "cell_type": "code",
   "execution_count": 55,
   "metadata": {},
   "outputs": [
    {
     "name": "stdout",
     "output_type": "stream",
     "text": [
      "EMB [0.0, 0.0, 0.0, 0.0, 0.0, 0.0, 0.0, 0.0, 0.0, 0.0, 0.0, 0.0, 0.0, 0.0, 0.0, 0.0, 0.0, 0.0, 0.0, 0.0, 0.0, 0.0, 0.0, 0.0, 0.0, 0.0, 0.0, 1.0, 0.0, 0.0, 0.0, 0.0, 0.0, 0.0, 0.0, 0.0, 0.0, 0.0, 0.0, 0.0, 0.0, 0.0, 0.0, 0.0, 0.0, 0.0, 0.0, 0.0, 0.0]\n",
      "HEAD [0.0, 0.0, 1.0, 0.0, 0.0, 0.0, 0.0, 0.0, 0.0, 0.0, 0.0, 0.0, 0.0]\n",
      "QK [0.0, 0.0, 0.0, 0.0, 0.0, 0.0, 0.0, 0.0, 0.0, 0.0, 0.0, 0.0, 0.0, 0.0, 0.0, 0.0, 0.0, 0.0, 0.0, 0.0, 0.0, 0.0, 0.0, 0.0, 0.0, 0.0, 0.0, 1.0, 0.0, 0.0, 0.0, 0.0, 0.0]\n",
      "V [0.0, 0.0, 0.0, 0.0, 0.0, 0.0, 0.0, 0.0, 0.0, 1.0, 0.0, 0.0, 0.0, 0.0, 0.0, 0.0, 0.0, 0.0, 0.0, 0.0, 0.0, 0.0, 0.0, 0.0, 0.0, 0.0, 0.0, 0.0, 0.0, 0.0, 0.0, 0.0, 0.0]\n",
      "MLP [0.0, 0.0, 0.0, 0.0, 0.0, 0.0, 0.0, 0.0, 0.0, 0.0, 0.0, 0.0, 0.0, 0.0, 0.0, 0.0, 0.0, 0.0, 0.0, 0.0, 0.0, 0.0, 0.0, 0.0, 0.0, 0.0, 0.0, 0.0, 0.0, 0.0, 0.0, 0.0, 0.0, 0.0, 0.0, 0.0, 0.0, 0.0, 0.0, 0.0, 0.0, 0.0, 0.0, 0.0, 0.0, 0.0, 0.0, 0.0, 0.0, 0.0, 0.0, 0.0, 0.0, 0.0, 0.0, 0.0, 0.0, 0.0, 0.0, 0.0, 0.0, 0.0, 0.0, 0.0, 1.0, 0.0, 0.0, 0.0, 0.0, 0.0, 0.0, 0.0, 0.0, 0.0, 0.0, 0.0, 0.0, 0.0, 0.0, 0.0, 0.0, 0.0, 0.0, 0.0, 0.0, 0.0, 0.0, 0.0, 0.0, 0.0, 0.0, 0.0, 0.0, 0.0, 0.0, 0.0, 0.0]\n"
     ]
    }
   ],
   "source": [
    "for var_type, var_spec in all_variable_specs.items():\n",
    "    indices = list(range(variable_slices_by_type[var_type][0], variable_slices_by_type[var_type][1]))\n",
    "    cur_decision_vars = [model.decision_vars[k] for k in indices]\n",
    "    cur_decision_vars_value = [x.value for x in cur_decision_vars]\n",
    "    print(var_type, cur_decision_vars_value)"
   ]
  },
  {
   "cell_type": "code",
   "execution_count": null,
   "metadata": {},
   "outputs": [],
   "source": []
  }
 ],
 "metadata": {
  "kernelspec": {
   "display_name": "Python 3",
   "language": "python",
   "name": "python3"
  },
  "language_info": {
   "codemirror_mode": {
    "name": "ipython",
    "version": 3
   },
   "file_extension": ".py",
   "mimetype": "text/x-python",
   "name": "python",
   "nbconvert_exporter": "python",
   "pygments_lexer": "ipython3",
   "version": "3.6.9"
  }
 },
 "nbformat": 4,
 "nbformat_minor": 4
}
