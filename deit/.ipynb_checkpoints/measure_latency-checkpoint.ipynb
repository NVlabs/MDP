{
 "cells": [
  {
   "cell_type": "code",
   "execution_count": null,
   "metadata": {},
   "outputs": [],
   "source": [
    "dense_model = create_model(\n",
    "    args.model+'_small',\n",
    "    pretrained=False,\n",
    "    num_classes=args.nb_classes,\n",
    "    drop_rate=args.drop,\n",
    "    drop_path_rate=args.drop_path,\n",
    "    drop_block_rate=None,\n",
    "    EMB=dim_dict['EMB'],\n",
    "    QK=dim_dict['QK'],\n",
    "    V=dim_dict['V'],\n",
    "    MLP=dim_dict['MLP'],\n",
    "    head=dim_dict['head'],\n",
    ")\n",
    "dense_model.to(device) "
   ]
  }
 ],
 "metadata": {
  "kernelspec": {
   "display_name": "Python 3",
   "language": "python",
   "name": "python3"
  },
  "language_info": {
   "codemirror_mode": {
    "name": "ipython",
    "version": 3
   },
   "file_extension": ".py",
   "mimetype": "text/x-python",
   "name": "python",
   "nbconvert_exporter": "python",
   "pygments_lexer": "ipython3",
   "version": "3.6.9"
  }
 },
 "nbformat": 4,
 "nbformat_minor": 4
}
